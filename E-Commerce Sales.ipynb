{
 "cells": [
  {
   "cell_type": "code",
   "execution_count": 5,
   "id": "b6bdeaa4-7753-4547-b625-fe452ab57a97",
   "metadata": {},
   "outputs": [
    {
     "name": "stdout",
     "output_type": "stream",
     "text": [
      "Dataset loaded successfully!\n",
      "Initial shape: (5000, 14)\n"
     ]
    }
   ],
   "source": [
    "import pandas as pd\n",
    "import numpy as np\n",
    "\n",
    "df = pd.read_csv('ecommerce_sales.csv')\n",
    "print('Dataset loaded successfully!')\n",
    "print('Initial shape:', df.shape)"
   ]
  },
  {
   "cell_type": "code",
   "execution_count": 6,
   "id": "4ca03015-777a-46c6-9dd9-35ae2b162052",
   "metadata": {},
   "outputs": [
    {
     "name": "stdout",
     "output_type": "stream",
     "text": [
      "\n",
      "Missing values before cleaning:\n",
      "Order ID         0\n",
      "Order Date       0\n",
      "Customer Name    0\n",
      "Region           0\n",
      "City             0\n",
      "Category         0\n",
      "Sub-Category     0\n",
      "Product Name     0\n",
      "Quantity         0\n",
      "Unit Price       0\n",
      "Discount         0\n",
      "Sales            0\n",
      "Profit           0\n",
      "Payment Mode     0\n",
      "dtype: int64\n"
     ]
    }
   ],
   "source": [
    "print('\\nMissing values before cleaning:')\n",
    "print(df.isnull().sum())"
   ]
  },
  {
   "cell_type": "code",
   "execution_count": 7,
   "id": "d0954b65-0257-4e22-98f7-e9c21a2c2775",
   "metadata": {},
   "outputs": [
    {
     "name": "stdout",
     "output_type": "stream",
     "text": [
      "\n",
      "Duplicate rows before: 0\n",
      "Duplicate rows after: 0\n"
     ]
    }
   ],
   "source": [
    "print('\\nDuplicate rows before:', df.duplicated().sum())\n",
    "df = df.drop_duplicates()\n",
    "print('Duplicate rows after:', df.duplicated().sum())"
   ]
  },
  {
   "cell_type": "code",
   "execution_count": 10,
   "id": "45522308-45b7-4bad-900c-df59c56f3ea6",
   "metadata": {},
   "outputs": [
    {
     "name": "stdout",
     "output_type": "stream",
     "text": [
      "✅ Data types corrected.\n",
      "\n"
     ]
    }
   ],
   "source": [
    "df['Order Date'] = pd.to_datetime(df['Order Date'], errors='coerce')\n",
    "num_cols = ['Quantity', 'Unit Price', 'Discount', 'Sales', 'Profit']\n",
    "df[num_cols] = df[num_cols].apply(pd.to_numeric, errors='coerce')\n",
    "print(\"✅ Data types corrected.\\n\")"
   ]
  },
  {
   "cell_type": "code",
   "execution_count": 12,
   "id": "f8a0777b-2847-4b0d-aff8-a449875d883f",
   "metadata": {},
   "outputs": [
    {
     "name": "stdout",
     "output_type": "stream",
     "text": [
      "✅ Text data standardized.\n",
      "\n"
     ]
    }
   ],
   "source": [
    "text_cols = ['Customer Name', 'Region', 'City', 'Category', 'Sub-Category', 'Product Name', 'Payment Mode']\n",
    "for col in text_cols:\n",
    "    df[col] = df[col].astype(str).str.strip().str.title()\n",
    "print(\"✅ Text data standardized.\\n\")"
   ]
  },
  {
   "cell_type": "code",
   "execution_count": 13,
   "id": "4814c149-7b70-4641-8026-5f917414088d",
   "metadata": {},
   "outputs": [
    {
     "name": "stdout",
     "output_type": "stream",
     "text": [
      "✅ Outliers handled successfully.\n",
      "\n"
     ]
    }
   ],
   "source": [
    "df = df[(df['Quantity'] > 0) & (df['Sales'] >= 0) & (df['Profit'] >= 0)]\n",
    "print(\"✅ Outliers handled successfully.\\n\")"
   ]
  },
  {
   "cell_type": "code",
   "execution_count": 14,
   "id": "d4bbbae3-d92b-42e6-ab27-8f27f00b80d2",
   "metadata": {},
   "outputs": [
    {
     "name": "stdout",
     "output_type": "stream",
     "text": [
      "✅ New columns created: Total Revenue, Month, Year.\n",
      "\n"
     ]
    }
   ],
   "source": [
    "df['Total Revenue'] = df['Quantity'] * df['Unit Price'] * (1 - df['Discount'])\n",
    "df['Month'] = df['Order Date'].dt.month_name()\n",
    "df['Year'] = df['Order Date'].dt.year\n",
    "print(\"✅ New columns created: Total Revenue, Month, Year.\\n\")"
   ]
  },
  {
   "cell_type": "code",
   "execution_count": 15,
   "id": "31e2032c-b249-4db0-b8aa-d8bb3d39c06c",
   "metadata": {},
   "outputs": [
    {
     "name": "stdout",
     "output_type": "stream",
     "text": [
      "✅ Cleaned dataset saved as 'cleaned_ecommerce_sales.csv'.\n",
      "\n"
     ]
    }
   ],
   "source": [
    "df.to_csv('cleaned_ecommerce_sales.csv', index=False)\n",
    "print(\"✅ Cleaned dataset saved as 'cleaned_ecommerce_sales.csv'.\\n\")"
   ]
  },
  {
   "cell_type": "code",
   "execution_count": 16,
   "id": "1a51e837-9297-4899-9c63-76a2074400f1",
   "metadata": {},
   "outputs": [
    {
     "name": "stdout",
     "output_type": "stream",
     "text": [
      "Dataset Info:\n",
      "<class 'pandas.core.frame.DataFrame'>\n",
      "RangeIndex: 5000 entries, 0 to 4999\n",
      "Data columns (total 17 columns):\n",
      " #   Column         Non-Null Count  Dtype         \n",
      "---  ------         --------------  -----         \n",
      " 0   Order ID       5000 non-null   int64         \n",
      " 1   Order Date     5000 non-null   datetime64[ns]\n",
      " 2   Customer Name  5000 non-null   object        \n",
      " 3   Region         5000 non-null   object        \n",
      " 4   City           5000 non-null   object        \n",
      " 5   Category       5000 non-null   object        \n",
      " 6   Sub-Category   5000 non-null   object        \n",
      " 7   Product Name   5000 non-null   object        \n",
      " 8   Quantity       5000 non-null   int64         \n",
      " 9   Unit Price     5000 non-null   int64         \n",
      " 10  Discount       5000 non-null   int64         \n",
      " 11  Sales          5000 non-null   float64       \n",
      " 12  Profit         5000 non-null   float64       \n",
      " 13  Payment Mode   5000 non-null   object        \n",
      " 14  Total Revenue  5000 non-null   int64         \n",
      " 15  Month          5000 non-null   object        \n",
      " 16  Year           5000 non-null   int32         \n",
      "dtypes: datetime64[ns](1), float64(2), int32(1), int64(5), object(8)\n",
      "memory usage: 644.7+ KB\n",
      "None\n",
      "\n",
      "Sample Records:\n",
      "   Order ID Order Date Customer Name Region       City   Category  \\\n",
      "0     10001 2024-10-19  Kashvi Varty  South  Bangalore      Books   \n",
      "1     10002 2025-08-30   Advik Desai  North      Delhi  Groceries   \n",
      "2     10003 2023-11-04    Rhea Kalla   East      Patna    Kitchen   \n",
      "3     10004 2025-05-23     Anika Sen   East    Kolkata  Groceries   \n",
      "4     10005 2025-01-19   Akarsh Kaul   West       Pune   Clothing   \n",
      "\n",
      "  Sub-Category       Product Name  Quantity  Unit Price  Discount     Sales  \\\n",
      "0  Non-Fiction  Non-Fiction Ipsum         2       36294         5   68958.6   \n",
      "1         Rice          Rice Nemo         1       42165        20   33732.0   \n",
      "2       Juicer        Juicer Odio         4       64876        20  207603.2   \n",
      "3          Oil      Oil Doloribus         5       37320        15  158610.0   \n",
      "4    Kids Wear      Kids Wear Quo         1       50037        10   45033.3   \n",
      "\n",
      "     Profit Payment Mode  Total Revenue     Month  Year  \n",
      "0  10525.09   Debit Card        -290352   October  2024  \n",
      "1   6299.66   Debit Card        -801135    August  2025  \n",
      "2  19850.27  Credit Card       -4930576  November  2023  \n",
      "3  36311.02          Upi       -2612400       May  2025  \n",
      "4   9050.04   Debit Card        -450333   January  2025  \n"
     ]
    }
   ],
   "source": [
    "print(\"Dataset Info:\")\n",
    "print(df.info())\n",
    "print(\"\\nSample Records:\")\n",
    "print(df.head())"
   ]
  },
  {
   "cell_type": "code",
   "execution_count": null,
   "id": "ff70fb0f-a172-4aae-8fd7-c77eafe0a574",
   "metadata": {},
   "outputs": [],
   "source": []
  }
 ],
 "metadata": {
  "kernelspec": {
   "display_name": "Python 3 (ipykernel)",
   "language": "python",
   "name": "python3"
  },
  "language_info": {
   "codemirror_mode": {
    "name": "ipython",
    "version": 3
   },
   "file_extension": ".py",
   "mimetype": "text/x-python",
   "name": "python",
   "nbconvert_exporter": "python",
   "pygments_lexer": "ipython3",
   "version": "3.13.5"
  }
 },
 "nbformat": 4,
 "nbformat_minor": 5
}
